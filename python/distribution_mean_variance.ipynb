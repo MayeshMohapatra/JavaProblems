{
  "nbformat": 4,
  "nbformat_minor": 0,
  "metadata": {
    "colab": {
      "name": "distribution_mean_variance.ipynb",
      "provenance": []
    },
    "kernelspec": {
      "name": "python3",
      "display_name": "Python 3"
    }
  },
  "cells": [
    {
      "cell_type": "code",
      "metadata": {
        "id": "GZvkjc6O01AV"
      },
      "source": [
        "import math\n",
        "gamma = int(input())\n",
        "n = int(input())\n",
        "pi = []\n",
        "avg = 0\n",
        "var = 0\n",
        "\n",
        "\n",
        "for i in range(1, n+1):\n",
        "    kf = math.factorial(int(i))\n",
        "    a = (round((gamma**i)*(math.exp(-gamma))/kf, 4))\n",
        "    pi.append(a)\n",
        "    print(a)\n",
        "\n",
        "for i in range(1, n+1):\n",
        "    avg += (i*pi[i-1])\n",
        "\n",
        "\n",
        "for i in range(1, n+1):\n",
        "    var += (((avg-i)**2)*pi[i-1])\n",
        "\n",
        "\n",
        "print(math.ceil(avg))\n",
        "print(math.ceil(var))"
      ],
      "execution_count": null,
      "outputs": []
    }
  ]
}