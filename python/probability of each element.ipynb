{
  "nbformat": 4,
  "nbformat_minor": 0,
  "metadata": {
    "colab": {
      "name": "first.ipynb",
      "provenance": []
    },
    "kernelspec": {
      "name": "python3",
      "display_name": "Python 3"
    }
  },
  "cells": [
    {
      "cell_type": "code",
      "metadata": {
        "id": "renbEDJ9y_NF"
      },
      "source": [
        "import random\n",
        "P=int(input())\n",
        "random.seed(P)\n",
        "randomList = []\n",
        "count1 = []\n",
        "count2 = []\n",
        "count3 = []\n",
        "count4 = []\n",
        "count5 = []\n",
        "count6 = []\n",
        "\n",
        "for i in range(0, 5000):\n",
        "    randomList.append(random.randint(1,6))\n",
        "for i in range(0,4999):\n",
        "    if(randomList[i]==1):\n",
        "        count1.append(randomList[i+1])\n",
        "    if(randomList[i]==2):\n",
        "        count2.append(randomList[i+1])\n",
        "    if(randomList[i]==3):\n",
        "        count3.append(randomList[i+1])\n",
        "    if(randomList[i]==4):\n",
        "        count4.append(randomList[i+1])\n",
        "    if(randomList[i]==5):\n",
        "        count5.append(randomList[i+1])\n",
        "    if(randomList[i]==6):\n",
        "        count6.append(randomList[i+1])\n",
        "\n",
        "def printme( count1 ):\n",
        "    QC1 = 0\n",
        "    QC2 = 0\n",
        "    QC3 = 0\n",
        "    QC4 = 0\n",
        "    QC5 = 0\n",
        "    QC6 = 0\n",
        "    for i in count1:\n",
        "        if(i==1):\n",
        "            QC1+=1\n",
        "        if(i==2):\n",
        "            QC2+=1\n",
        "        if(i==3):\n",
        "            QC3+=1\n",
        "        if(i==4):\n",
        "            QC4+=1\n",
        "        if(i==5):\n",
        "            QC5+=1\n",
        "        if(i==6):\n",
        "            QC6+=1\n",
        "    print(QC1/len(count1),QC2/len(count1),QC3/len(count1),QC4/len(count1),QC5/len(count1),QC6/len(count1))\n",
        "printme(count1)\n",
        "printme(count2)\n",
        "printme(count3)\n",
        "printme(count4)\n",
        "printme(count5)\n",
        "printme(count6)"
      ],
      "execution_count": null,
      "outputs": []
    }
  ]
}