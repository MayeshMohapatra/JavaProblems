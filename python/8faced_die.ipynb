{
  "nbformat": 4,
  "nbformat_minor": 0,
  "metadata": {
    "colab": {
      "name": "8faced_die.ipynb",
      "provenance": []
    },
    "kernelspec": {
      "name": "python3",
      "display_name": "Python 3"
    }
  },
  "cells": [
    {
      "cell_type": "code",
      "metadata": {
        "id": "GZvkjc6O01AV"
      },
      "source": [
        "import random\n",
        "\n",
        "s = int(input())\n",
        "l = []\n",
        "N = int(input())\n",
        "\n",
        "random.seed(s)\n",
        "\n",
        "\n",
        "for i in range(N):\n",
        "    l.append(random.randint(1, 8))\n",
        "\n",
        "print(l.count(1)/len(l), l.count(2)/len(l), l.count(3)/len(l), l.count(4)/len(l),\n",
        "      l.count(5)/len(l), l.count(6)/len(l), l.count(7)/len(l), l.count(8)/len(l))\n",
        "print(sum(l)/len(l))"
      ],
      "execution_count": null,
      "outputs": []
    }
  ]
}